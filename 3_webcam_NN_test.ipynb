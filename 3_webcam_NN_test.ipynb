{
 "cells": [
  {
   "cell_type": "markdown",
   "metadata": {},
   "source": [
    "# Real time webcam NN model test"
   ]
  },
  {
   "cell_type": "code",
   "execution_count": 9,
   "metadata": {},
   "outputs": [],
   "source": [
    "import keras\n",
    "from keras import layers\n",
    "from keras import models\n",
    "import numpy as np\n",
    "from time import sleep\n",
    "import cv2"
   ]
  },
  {
   "cell_type": "markdown",
   "metadata": {},
   "source": [
    "#### Use the same from either converting function to create matrix from hand_landmark mappings:"
   ]
  },
  {
   "cell_type": "code",
   "execution_count": 10,
   "metadata": {},
   "outputs": [],
   "source": [
    "mediapipe2posenet = [0,2,5,7,8,11,12,13,14,15,16,23,24,25,26,27,28]\n",
    "def convertPoseMapToArray(pose_landmarks):\n",
    "    '''\n",
    "        Input: pose landmark mapping made of 17 different points on body\n",
    "        Output: 51 dimension x-vector, x,y coordinates and visibily of each the 17 points in an array\n",
    "    '''\n",
    "    global mediapipe2posenet\n",
    "    x = np.zeros(51) #output array\n",
    "    for i in range(17): #for the 17 land marks put the x,y,z coordinates and visibility in the output array\n",
    "        x[i*3+0] = pose_landmarks.landmark[mediapipe2posenet[i]].x\n",
    "        x[i*3+1] = pose_landmarks.landmark[mediapipe2posenet[i]].y\n",
    "        x[i*3+2] = pose_landmarks.landmark[mediapipe2posenet[i]].visibility\n",
    "    return x\n",
    "\n",
    "def convertPoseMapToArrayRelative(pose_landmarks):\n",
    "    '''\n",
    "        Input: pose landmark mapping made of 17 different points on body\n",
    "        Output: 51 dimension x-vector, x,y coordinates minus nose coordinate, and visibily of each the 17 points in an array\n",
    "    '''\n",
    "    global mediapipe2posenet\n",
    "    x_nose = pose_landmarks.landmark[0].x\n",
    "    y_nose = pose_landmarks.landmark[0].y\n",
    "    x = np.zeros(51) #output array\n",
    "    for i in range(17): #for the 17 land marks put the x,y,z coordinates and visibility in the output array\n",
    "        x[i*3+0] = pose_landmarks.landmark[mediapipe2posenet[i]].x - x_nose\n",
    "        x[i*3+1] = pose_landmarks.landmark[mediapipe2posenet[i]].y - y_nose\n",
    "        x[i*3+2] = pose_landmarks.landmark[mediapipe2posenet[i]].visibility\n",
    "\n",
    "    return x"
   ]
  },
  {
   "cell_type": "markdown",
   "metadata": {},
   "source": [
    "#### Load model from file:"
   ]
  },
  {
   "cell_type": "code",
   "execution_count": 11,
   "metadata": {},
   "outputs": [],
   "source": [
    "reconstructed_model = keras.models.load_model('push_up_catchallModel')"
   ]
  },
  {
   "cell_type": "markdown",
   "metadata": {},
   "source": [
    "#### this is a simple web cam example, with no hand mapping"
   ]
  },
  {
   "cell_type": "code",
   "execution_count": 4,
   "metadata": {},
   "outputs": [],
   "source": [
    "cap = cv2.VideoCapture(0)\n",
    "\n",
    "# Check if the webcam is opened correctly\n",
    "if not cap.isOpened():\n",
    "    raise IOError(\"Cannot open webcam\")\n",
    "\n",
    "while True:\n",
    "    ret, frame = cap.read()\n",
    "\n",
    "#     frame = cv2.resize(frame, None, fx=0.5, fy=0.5, interpolation=cv2.INTER_AREA)\n",
    "#     IPython.display.Image(frame)\n",
    "    cv2.imshow('Input', frame)\n",
    "\n",
    "    c = cv2.waitKey(1)\n",
    "    if c == 27:\n",
    "        break\n",
    "\n",
    "cap.release()\n",
    "cv2.destroyAllWindows()"
   ]
  },
  {
   "cell_type": "markdown",
   "metadata": {},
   "source": [
    "####  This is the webcam with the NN processing\n"
   ]
  },
  {
   "cell_type": "code",
   "execution_count": 12,
   "metadata": {},
   "outputs": [],
   "source": [
    "import cv2\n",
    "import mediapipe as mp\n",
    "mp_drawing = mp.solutions.drawing_utils\n",
    "mp_holistic = mp.solutions.holistic\n",
    "\n",
    "\n",
    "font = cv2.FONT_HERSHEY_SIMPLEX\n",
    "bottomLeftCornerOfText = (100,100)\n",
    "fontScale = 1\n",
    "fontColor = (255,255,255)\n",
    "lineType = 2\n",
    "output = 0\n",
    "\n",
    "# For webcam input:\n",
    "cap = cv2.VideoCapture(0)\n",
    "with mp_holistic.Holistic(\n",
    "    min_detection_confidence=0.5,\n",
    "    min_tracking_confidence=0.5) as holistic:\n",
    "    while cap.isOpened():\n",
    "        success, image = cap.read()\n",
    "        if not success:\n",
    "            print(\"Ignoring empty camera frame.\")\n",
    "            # If loading a video, use 'break' instead of 'continue'.\n",
    "            continue\n",
    "\n",
    "        # Flip the image horizontally for a later selfie-view display, and convert\n",
    "        # the BGR image to RGB.\n",
    "        image = cv2.cvtColor(cv2.flip(image, 1), cv2.COLOR_BGR2RGB)\n",
    "        # To improve performance, optionally mark the image as not writeable to\n",
    "        # pass by reference.\n",
    "        image.flags.writeable = False\n",
    "        results = holistic.process(image)\n",
    "\n",
    "        # Draw landmark annotation on the image.\n",
    "        image.flags.writeable = True\n",
    "        image = cv2.cvtColor(image, cv2.COLOR_RGB2BGR)\n",
    "        if results.pose_landmarks:\n",
    "            x = convertPoseMapToArrayRelative(results.pose_landmarks)\n",
    "            if x.all() != None:\n",
    "                output = np.argmax(reconstructed_model.predict(x.reshape((1, 51))))\n",
    "#         mp_drawing.draw_landmarks(\n",
    "#             image, results.face_landmarks, mp_holistic.FACE_CONNECTIONS)\n",
    "#         mp_drawing.draw_landmarks(\n",
    "#             image, results.left_hand_landmarks, mp_holistic.HAND_CONNECTIONS)\n",
    "#         mp_drawing.draw_landmarks(\n",
    "#             image, results.right_hand_landmarks, mp_holistic.HAND_CONNECTIONS)\n",
    "        mp_drawing.draw_landmarks(\n",
    "            image, results.pose_landmarks, mp_holistic.POSE_CONNECTIONS)\n",
    "         ###############################################\n",
    "        # This is where the text on screen is displayed:\n",
    "        ###############################################\n",
    "        cv2.putText(image,str(output), \n",
    "        bottomLeftCornerOfText, \n",
    "        font, \n",
    "        fontScale,\n",
    "        fontColor,\n",
    "        lineType)\n",
    "        ###############################################\n",
    "        cv2.imshow('MediaPipe Holistic', image)\n",
    "\n",
    "        if cv2.waitKey(5) & 0xFF == 27:\n",
    "            break\n",
    "cap.release()\n"
   ]
  },
  {
   "cell_type": "code",
   "execution_count": null,
   "metadata": {},
   "outputs": [],
   "source": []
  }
 ],
 "metadata": {
  "kernelspec": {
   "display_name": "Python 3",
   "language": "python",
   "name": "python3"
  },
  "language_info": {
   "codemirror_mode": {
    "name": "ipython",
    "version": 3
   },
   "file_extension": ".py",
   "mimetype": "text/x-python",
   "name": "python",
   "nbconvert_exporter": "python",
   "pygments_lexer": "ipython3",
   "version": "3.8.8"
  }
 },
 "nbformat": 4,
 "nbformat_minor": 4
}
